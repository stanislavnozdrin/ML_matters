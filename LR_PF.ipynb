{
 "cells": [
  {
   "cell_type": "markdown",
   "metadata": {},
   "source": [
    "# 1. Подготовка данных к построению модели\n",
    "## 1.1 Загрузка библиотек и датасета"
   ]
  },
  {
   "cell_type": "code",
   "execution_count": 1,
   "metadata": {},
   "outputs": [],
   "source": [
    "import pandas as pd\n",
    "import numpy as np\n",
    "import matplotlib\n",
    "import matplotlib.pyplot as plt\n",
    "matplotlib.style.use('ggplot')\n",
    "%matplotlib inline"
   ]
  },
  {
   "cell_type": "code",
   "execution_count": 2,
   "metadata": {},
   "outputs": [],
   "source": [
    "df = pd.read_csv('Albuquerque Home Prices.txt', sep='\\t')\n",
    "df = df.replace(-9999, np.nan)"
   ]
  },
  {
   "cell_type": "code",
   "execution_count": 3,
   "metadata": {},
   "outputs": [
    {
     "data": {
      "text/html": [
       "<div>\n",
       "<style scoped>\n",
       "    .dataframe tbody tr th:only-of-type {\n",
       "        vertical-align: middle;\n",
       "    }\n",
       "\n",
       "    .dataframe tbody tr th {\n",
       "        vertical-align: top;\n",
       "    }\n",
       "\n",
       "    .dataframe thead th {\n",
       "        text-align: right;\n",
       "    }\n",
       "</style>\n",
       "<table border=\"1\" class=\"dataframe\">\n",
       "  <thead>\n",
       "    <tr style=\"text-align: right;\">\n",
       "      <th></th>\n",
       "      <th>PRICE</th>\n",
       "      <th>SQFT</th>\n",
       "      <th>AGE</th>\n",
       "      <th>FEATS</th>\n",
       "      <th>NE</th>\n",
       "      <th>CUST</th>\n",
       "      <th>COR</th>\n",
       "      <th>TAX</th>\n",
       "    </tr>\n",
       "  </thead>\n",
       "  <tbody>\n",
       "    <tr>\n",
       "      <th>0</th>\n",
       "      <td>2050</td>\n",
       "      <td>2650</td>\n",
       "      <td>13.0</td>\n",
       "      <td>7</td>\n",
       "      <td>1</td>\n",
       "      <td>1</td>\n",
       "      <td>0</td>\n",
       "      <td>1639.0</td>\n",
       "    </tr>\n",
       "    <tr>\n",
       "      <th>1</th>\n",
       "      <td>2080</td>\n",
       "      <td>2600</td>\n",
       "      <td>NaN</td>\n",
       "      <td>4</td>\n",
       "      <td>1</td>\n",
       "      <td>1</td>\n",
       "      <td>0</td>\n",
       "      <td>1088.0</td>\n",
       "    </tr>\n",
       "    <tr>\n",
       "      <th>2</th>\n",
       "      <td>2150</td>\n",
       "      <td>2664</td>\n",
       "      <td>6.0</td>\n",
       "      <td>5</td>\n",
       "      <td>1</td>\n",
       "      <td>1</td>\n",
       "      <td>0</td>\n",
       "      <td>1193.0</td>\n",
       "    </tr>\n",
       "    <tr>\n",
       "      <th>3</th>\n",
       "      <td>2150</td>\n",
       "      <td>2921</td>\n",
       "      <td>3.0</td>\n",
       "      <td>6</td>\n",
       "      <td>1</td>\n",
       "      <td>1</td>\n",
       "      <td>0</td>\n",
       "      <td>1635.0</td>\n",
       "    </tr>\n",
       "    <tr>\n",
       "      <th>4</th>\n",
       "      <td>1999</td>\n",
       "      <td>2580</td>\n",
       "      <td>4.0</td>\n",
       "      <td>4</td>\n",
       "      <td>1</td>\n",
       "      <td>1</td>\n",
       "      <td>0</td>\n",
       "      <td>1732.0</td>\n",
       "    </tr>\n",
       "  </tbody>\n",
       "</table>\n",
       "</div>"
      ],
      "text/plain": [
       "   PRICE  SQFT   AGE  FEATS  NE  CUST  COR     TAX\n",
       "0   2050  2650  13.0      7   1     1    0  1639.0\n",
       "1   2080  2600   NaN      4   1     1    0  1088.0\n",
       "2   2150  2664   6.0      5   1     1    0  1193.0\n",
       "3   2150  2921   3.0      6   1     1    0  1635.0\n",
       "4   1999  2580   4.0      4   1     1    0  1732.0"
      ]
     },
     "execution_count": 3,
     "metadata": {},
     "output_type": "execute_result"
    }
   ],
   "source": [
    "df.head()"
   ]
  },
  {
   "cell_type": "code",
   "execution_count": 4,
   "metadata": {},
   "outputs": [
    {
     "data": {
      "text/plain": [
       "PRICE     0\n",
       "SQFT      0\n",
       "AGE      49\n",
       "FEATS     0\n",
       "NE        0\n",
       "CUST      0\n",
       "COR       0\n",
       "TAX      10\n",
       "dtype: int64"
      ]
     },
     "execution_count": 4,
     "metadata": {},
     "output_type": "execute_result"
    }
   ],
   "source": [
    "df.apply(lambda x: sum(x.isnull()), axis=0)"
   ]
  },
  {
   "cell_type": "markdown",
   "metadata": {},
   "source": [
    "Таким образом, видим, что источниками пропущенных значений являются колонки ```AGE``` и ```TAX```. Раз в колонке ```AGE``` так много пропусков, то проще её будет убрать из анализа, чем пытаться заделать эти дырки."
   ]
  },
  {
   "cell_type": "code",
   "execution_count": 5,
   "metadata": {},
   "outputs": [],
   "source": [
    "del df['AGE']"
   ]
  },
  {
   "cell_type": "code",
   "execution_count": 6,
   "metadata": {},
   "outputs": [
    {
     "data": {
      "text/plain": [
       "<matplotlib.axes._subplots.AxesSubplot at 0x164b12d1a20>"
      ]
     },
     "execution_count": 6,
     "metadata": {},
     "output_type": "execute_result"
    },
    {
     "data": {
      "image/png": "[encoded data removed]",
      "text/plain": [
       "<Figure size 432x288 with 1 Axes>"
      ]
     },
     "metadata": {
      "needs_background": "light"
     },
     "output_type": "display_data"
    }
   ],
   "source": [
    "df['TAX'].hist()"
   ]
  },
  {
   "cell_type": "markdown",
   "metadata": {},
   "source": [
    "Раз распределение похоже на нормальное, то можно заменить пропуски на среднее значение этой колонки. Для этого в pandas есть функция ```Series.fillna```, которая заменяет все пропущенные в колонке значения на заданное."
   ]
  },
  {
   "cell_type": "code",
   "execution_count": 7,
   "metadata": {},
   "outputs": [],
   "source": [
    "df['TAX'] = df['TAX'].fillna(df['TAX'].mean())"
   ]
  },
  {
   "cell_type": "markdown",
   "metadata": {},
   "source": [
    "# 2. Линейные модели\n",
    "## 2.1 Достоинства и недостатки "
   ]
  },
  {
   "cell_type": "markdown",
   "metadata": {},
   "source": [
    "Итак, прежде чем перейти к построению модели линейной регрессии обсудим все теоретические основы.\n",
    "\n",
    "Также подчеркну, что у линейное модели есть существенный недостатки, но есть и достоиства.\n",
    "\n",
    "1. Преимущества:\n",
    "   * Модель сама по себе простая\n",
    "   * Отсутствуют гиперпараметры, что упрощает сам процесс обучения \n",
    "   * Легко интерпритировать коэффициенты(параметры) модели(невсегда)\n",
    "   * Если действительно существует линейная или близкая к ней зависимость, то такая модель будет лучше, чем более сложные\n",
    "   * Более эффективна, чем сложные в условиях разреженности и огромного размера данных\n",
    "2. Недостатки:\n",
    "   * Само по себе может быть ошибочно предположение о линейности(то есть в случае нелинейности модель неэффективна)\n",
    "   * Коэффициенты модели могут быть неадекватны(слишком большие), возможное решение - регуляризация \n",
    "   * Неустойчива к коллинеарности (L2 - как решение)\n",
    "   * Невозможность геометрической интерпритации в случае более n-мерного пространства для $n>2$\n",
    "   \n"
   ]
  },
  {
   "cell_type": "markdown",
   "metadata": {},
   "source": [
    "## 2.2 Геометрическая интерпритация "
   ]
  },
  {
   "cell_type": "markdown",
   "metadata": {},
   "source": [
    "Итак, рассмотрим задачу в её геометрической интерпритации\n",
    "\n",
    "Сначала упростим её, чтобы можно было рисовать 2D-картинки \n",
    "\n",
    "Попробуем предсказывать цену дома в зависимости только от площади:"
   ]
  },
  {
   "cell_type": "code",
   "execution_count": 8,
   "metadata": {},
   "outputs": [
    {
     "data": {
      "image/png": "[encoded data removed]",
      "text/plain": [
       "<Figure size 432x288 with 1 Axes>"
      ]
     },
     "metadata": {
      "needs_background": "light"
     },
     "output_type": "display_data"
    }
   ],
   "source": [
    "plt.scatter(x='SQFT', y = 'PRICE',data = df)\n",
    "plt.xlabel('Square')\n",
    "plt.ylabel('Price')\n",
    "plt.show()"
   ]
  },
  {
   "cell_type": "markdown",
   "metadata": {},
   "source": [
    "В принципе картинка выглядит линейно, хоть и присутствуют выбросы, наша цель построить прямую, которая приблизит собой эти точки\n",
    "\n",
    "Общая постановка задачи для нашего случая:\n",
    "`x` - площадь дома, `y` - цена дома\n",
    "\n",
    "Запишем уравнение:\n",
    "\\begin{gather}   \n",
    "    y = a+bx\n",
    "\\end{gather} , где `a` - свободный член , `b` - коэффициент при слагаемом площади дома\n",
    "\n",
    "Наша цель подобрать коэффициенты так, чтобы прямая как можно лучше прилегала к точкам\n",
    "\n",
    "Пусть `a` = 200/3, `b` = 2/3"
   ]
  },
  {
   "cell_type": "code",
   "execution_count": 9,
   "metadata": {},
   "outputs": [],
   "source": [
    "import numpy as np\n",
    "x = np.linspace(df['SQFT'].min(),df['SQFT'].max())"
   ]
  },
  {
   "cell_type": "code",
   "execution_count": 10,
   "metadata": {},
   "outputs": [],
   "source": [
    "y = [(i-100)/1.5 for i in x]"
   ]
  },
  {
   "cell_type": "code",
   "execution_count": 11,
   "metadata": {},
   "outputs": [
    {
     "data": {
      "text/plain": [
       "[<matplotlib.lines.Line2D at 0x164b3a6be10>]"
      ]
     },
     "execution_count": 11,
     "metadata": {},
     "output_type": "execute_result"
    },
    {
     "data": {
      "image/png": "[encoded data removed]",
      "text/plain": [
       "<Figure size 432x288 with 1 Axes>"
      ]
     },
     "metadata": {
      "needs_background": "light"
     },
     "output_type": "display_data"
    }
   ],
   "source": [
    "plt.scatter(x='SQFT', y = 'PRICE',data = df)\n",
    "plt.xlabel('Square')\n",
    "plt.ylabel('Price')\n",
    "plt.plot(x, y,color = 'blue')"
   ]
  },
  {
   "cell_type": "markdown",
   "metadata": {},
   "source": [
    "## 2.3 Теоретические выкладки"
   ]
  },
  {
   "cell_type": "markdown",
   "metadata": {},
   "source": [
    "Получилось неплохо, но является ли решение данной задачи оптимальным?\n",
    "Перейдем к теории\n",
    "\n",
    "Итак, пусть у нас имеется набор данных:\n",
    "\n",
    "X = $\\begin{bmatrix}                        \n",
    " x_{11} \\ x_{12} \\ ... \\ x_{1m} \\\\  \n",
    " x_{21} \\ x_{22} \\ ... \\ x_{2m}\\\\\n",
    " ............  \\\\\n",
    " x_{n1} \\ x_{n2} \\ ... \\ x_{nm} \\\\\n",
    "  \\end{bmatrix}$\n",
    "  \n",
    "Y = $\\begin{bmatrix}\n",
    " y_1 \\\\\n",
    " y_2 \\\\\n",
    " .   \\\\\n",
    " y_n\n",
    "  \\end{bmatrix}$\n",
    "\n",
    "\n",
    "\n",
    "`X` - матрица размером `nxm`, где `n` - число наблюдений, `m` - число признаков\n",
    "`y` - столбец с зависимой переменной. \n",
    "\n",
    "\n",
    "\n",
    "\n",
    "Итак, будем искать каждый $\\mathcal{y}_k$:\n",
    "\n",
    "\n",
    "$\\mathcal{y}_k = a_0+\\sum_{i=1}^m \\mathcal{a}_i\\mathcal{x}_i  $ , где $i=1,2,\\dots,m$,  $k=1,2,\\dots,n$ , $\\vec a$ - вектор коэффициентов, $\\vec x$ - вектор признаков\n",
    "\n",
    "Для удобства возьмем $\\mathcal{x}_0 = 1$ и перепишем задачу в более удобной форме:\n",
    "\n",
    "$\\mathcal{y}_k = \\sum_{i=1}^m \\mathcal{a}_i\\mathcal{x}_i $, где $i=0,1,\\dots,m$ , $k=1,2,\\dots,n$\n",
    "\n",
    "\n",
    "\n",
    "\n",
    "Пусть $\\mathcal{y}_i$ - реальные значения на i-ом образце, а $\\hat y_i$ - ответы модели\n",
    "на i-том образце \n",
    "\n",
    "\n",
    "Величину $\\mathcal{E}_i =y_i -  \\hat y_i  $ называют невязкой или отклонением \n",
    "\n",
    "\n",
    "Дальше наша задача минимизировать ошибки, то есть минимизировать функцию:\n",
    "\n",
    "$\\sum_{i=1}^n (y_i -  \\hat y_i) \\quad $,\n",
    "\n",
    "В этом случае не учитывается знак ошибки\n",
    "\n",
    "Пусть на 1 наблюдении ошибка равна $y_1 -  \\hat y_1 = 5$, на 2-ом $y_2 -  \\hat y_2 = -5$, тогда их сумма дает 0, что неверно.\n",
    "\n",
    "Есть лекарство:\n",
    "\n",
    "1. Модуль MAE = $\\sum_{i=1}^n |(y_i -  \\hat y_i)| \\quad $\n",
    "2. Квадрат  MSE = $\\sum_{i=1}^n (y_i -  \\hat y_i)^2 \\quad $\n",
    "\n",
    "Какой из них предпочтительней?\n",
    "\n",
    "Исследователь выбирает для себя сам, учитывать или ему выбросы, то есть сильные отклонения от правильных ответов.\n",
    "\n",
    "Если нужно учитывать сильное влияние отклонений, то лучше MAE, иначе - MSE.\n",
    "\n",
    "Но рассмотрим некоторые другие функции потерь\n",
    "3. Mean Absolute Percentage Error = $\\frac{100}{n}\\sum_{1}^{n}\\frac{|y_i-\\hat y_i|}{max(|\\hat y|,\\varepsilon )}$\n",
    "\n",
    "Данная метрика измеряет относительную ошибку, то есть призвана решить всю ту же проблему - чрезмерное влияние больших отклонений.\n",
    "\n",
    "4. Mean Squared Logarithmic Error = $\\frac{1}{n}\\sum_{1}^{n} (log(y_i+1)-log(\\hat y_i+1))^2$\n",
    "\n",
    "Данная метрика призвана бороться с той же проблемой, но учитывает не относительные ошибки, а разницу логарифмов.\n",
    "\n",
    "5. logcosh = $ \\frac{1}{n}\\sum_{1}^{n}log(cosh(y_i - \\hat y_i)) $\n",
    "\n",
    "Данная метрика ведет себя как MAE при больших значения разницы $y_i - \\hat y_i $, при малых - как MSE.\n",
    "\n",
    "Для дальнейшего удобства рассмотрим вариант 2 (MSE), его выбираем из соображения удобства дифференцирования.\n",
    "\n",
    "Итак, наша задача снизить количество ошибок модели, то есть найти минимум данного выражения.\n",
    "\n",
    "`X` и `y` мы знаем, осталось найти параметры $\\hat a$.\n",
    "\n",
    "$\\sum_{i=1}^n (y_i -  \\hat y_i)^2 \\rightarrow min $\n",
    "\n",
    "\n",
    "Параметры $\\hat a$ ищутся именно с помощью метода максимального правдоподобия. \n",
    "\n",
    "$ \\frac{\\partial MSE}{\\partial \\hat a} = 0 $\n",
    "\n",
    "Найдем производные по каждому параметру и приравняем к 0:\n",
    "\n",
    "\n",
    "  $\\frac{\\partial MSE}{\\partial  a_1} = -2x_1\\sum_{i=1}^{n}(y_i-\\sum_{k=1}^{m}a_kx_k) = 0 $\n",
    "  \n",
    "\n",
    "  $\\frac{\\partial MSE}{\\partial  a_2} = -2x_2\\sum_{i=1}^{n}(y_i-\\sum_{k=1}^{m}a_kx_k) = 0 $ \n",
    "\n",
    "  $ \\vdots $\n",
    "  \n",
    "  $ \\frac{\\partial MSE}{\\partial  a_n} = -2x_n\\sum_{i=1}^{n}(y_i-\\sum_{k=1}^{m}a_kx_k) = 0 $\n",
    "\n",
    "\n",
    "Решив данную систему уравнений, найдем `a`.\n",
    "\n",
    "\n",
    "Так же важной теоритической предпосылкой является теорема `Гаусса - Маркова`\n",
    "\n",
    "[О ней здесь](https://ru.wikipedia.org/wiki/Теорема_Гаусса_—_Маркова)\n",
    "\n",
    "\n"
   ]
  },
  {
   "cell_type": "markdown",
   "metadata": {},
   "source": [
    "## 2.4  Построение модели\n",
    "\n"
   ]
  },
  {
   "cell_type": "code",
   "execution_count": 12,
   "metadata": {},
   "outputs": [],
   "source": [
    "from sklearn.linear_model import LinearRegression"
   ]
  },
  {
   "cell_type": "code",
   "execution_count": 13,
   "metadata": {},
   "outputs": [],
   "source": [
    "X = df.drop('PRICE', axis=1)\n",
    "y = df['PRICE']"
   ]
  },
  {
   "cell_type": "code",
   "execution_count": 14,
   "metadata": {},
   "outputs": [
    {
     "data": {
      "text/plain": [
       "LinearRegression(copy_X=True, fit_intercept=True, n_jobs=None, normalize=False)"
      ]
     },
     "execution_count": 14,
     "metadata": {},
     "output_type": "execute_result"
    }
   ],
   "source": [
    "model = LinearRegression()\n",
    "model.fit(X, y)"
   ]
  },
  {
   "cell_type": "markdown",
   "metadata": {},
   "source": [
    "Считаем качество модели (коэффициент $R^2$).\n",
    "$$\n",
    "R^2 = 1 - \\frac{\\sum_{i=1}^n{(y_i-\\hat y_i)}}{\\sum_{i=1}^n{(y_i-\\bar y_с)}} \n",
    "$$\n",
    "$\\bar y_с$ - Среднее"
   ]
  },
  {
   "cell_type": "code",
   "execution_count": 15,
   "metadata": {},
   "outputs": [
    {
     "name": "stdout",
     "output_type": "stream",
     "text": [
      "R^2: 0.8022436103807492\n"
     ]
    }
   ],
   "source": [
    "print('R^2: {0}'.format(model.score(X, y)))"
   ]
  },
  {
   "cell_type": "markdown",
   "metadata": {},
   "source": [
    "Выведем регрессионные коэффициенты от метода ```model.coef_``` и свободный член от метода ```model.intercept_```."
   ]
  },
  {
   "cell_type": "code",
   "execution_count": 16,
   "metadata": {},
   "outputs": [
    {
     "data": {
      "text/html": [
       "<div>\n",
       "<style scoped>\n",
       "    .dataframe tbody tr th:only-of-type {\n",
       "        vertical-align: middle;\n",
       "    }\n",
       "\n",
       "    .dataframe tbody tr th {\n",
       "        vertical-align: top;\n",
       "    }\n",
       "\n",
       "    .dataframe thead th {\n",
       "        text-align: right;\n",
       "    }\n",
       "</style>\n",
       "<table border=\"1\" class=\"dataframe\">\n",
       "  <thead>\n",
       "    <tr style=\"text-align: right;\">\n",
       "      <th></th>\n",
       "      <th>predictor</th>\n",
       "      <th>coef</th>\n",
       "    </tr>\n",
       "  </thead>\n",
       "  <tbody>\n",
       "    <tr>\n",
       "      <th>0</th>\n",
       "      <td>intercept</td>\n",
       "      <td>83.175919</td>\n",
       "    </tr>\n",
       "    <tr>\n",
       "      <th>1</th>\n",
       "      <td>SQFT</td>\n",
       "      <td>0.291978</td>\n",
       "    </tr>\n",
       "    <tr>\n",
       "      <th>2</th>\n",
       "      <td>FEATS</td>\n",
       "      <td>12.176743</td>\n",
       "    </tr>\n",
       "    <tr>\n",
       "      <th>3</th>\n",
       "      <td>NE</td>\n",
       "      <td>8.011604</td>\n",
       "    </tr>\n",
       "    <tr>\n",
       "      <th>4</th>\n",
       "      <td>CUST</td>\n",
       "      <td>133.014342</td>\n",
       "    </tr>\n",
       "    <tr>\n",
       "      <th>5</th>\n",
       "      <td>COR</td>\n",
       "      <td>-65.800841</td>\n",
       "    </tr>\n",
       "    <tr>\n",
       "      <th>6</th>\n",
       "      <td>TAX</td>\n",
       "      <td>0.541942</td>\n",
       "    </tr>\n",
       "  </tbody>\n",
       "</table>\n",
       "</div>"
      ],
      "text/plain": [
       "   predictor        coef\n",
       "0  intercept   83.175919\n",
       "1       SQFT    0.291978\n",
       "2      FEATS   12.176743\n",
       "3         NE    8.011604\n",
       "4       CUST  133.014342\n",
       "5        COR  -65.800841\n",
       "6        TAX    0.541942"
      ]
     },
     "execution_count": 16,
     "metadata": {},
     "output_type": "execute_result"
    }
   ],
   "source": [
    "coef = pd.DataFrame(zip(['intercept'] + X.columns.tolist(), [model.intercept_] + model.coef_.tolist()),\n",
    "                    columns=['predictor', 'coef'])\n",
    "coef"
   ]
  },
  {
   "cell_type": "markdown",
   "metadata": {},
   "source": [
    "Как интерпретировать модель? У нас есть 3 значимых предиктора: ```SQFT```, ```CUST``` и ```TAX```.  Значение коэффициента говорит, на сколько вырастет значение сигнала при увеличении предиктора на одну единицу. Смысл первых двух коэффициентов понятен: площадь и специальный вид постройки ожидаемо влияют на цену. Но есть ли смысл включать в предсказание цены дома налог с этого же дома? Ведь налог, как и цена, также начисляется исходя из похожих предикторов. Они должны сильно коррелировать. И действительно. Построим таблицу парных корреляций предикторов."
   ]
  },
  {
   "cell_type": "code",
   "execution_count": 17,
   "metadata": {},
   "outputs": [
    {
     "data": {
      "text/html": [
       "<div>\n",
       "<style scoped>\n",
       "    .dataframe tbody tr th:only-of-type {\n",
       "        vertical-align: middle;\n",
       "    }\n",
       "\n",
       "    .dataframe tbody tr th {\n",
       "        vertical-align: top;\n",
       "    }\n",
       "\n",
       "    .dataframe thead th {\n",
       "        text-align: right;\n",
       "    }\n",
       "</style>\n",
       "<table border=\"1\" class=\"dataframe\">\n",
       "  <thead>\n",
       "    <tr style=\"text-align: right;\">\n",
       "      <th></th>\n",
       "      <th>PRICE</th>\n",
       "      <th>SQFT</th>\n",
       "      <th>FEATS</th>\n",
       "      <th>NE</th>\n",
       "      <th>CUST</th>\n",
       "      <th>COR</th>\n",
       "      <th>TAX</th>\n",
       "    </tr>\n",
       "  </thead>\n",
       "  <tbody>\n",
       "    <tr>\n",
       "      <th>PRICE</th>\n",
       "      <td>1.000000</td>\n",
       "      <td>0.844795</td>\n",
       "      <td>0.420272</td>\n",
       "      <td>0.167840</td>\n",
       "      <td>0.555292</td>\n",
       "      <td>-0.079293</td>\n",
       "      <td>0.844889</td>\n",
       "    </tr>\n",
       "    <tr>\n",
       "      <th>SQFT</th>\n",
       "      <td>0.844795</td>\n",
       "      <td>1.000000</td>\n",
       "      <td>0.394925</td>\n",
       "      <td>0.145030</td>\n",
       "      <td>0.520102</td>\n",
       "      <td>0.040528</td>\n",
       "      <td>0.832674</td>\n",
       "    </tr>\n",
       "    <tr>\n",
       "      <th>FEATS</th>\n",
       "      <td>0.420272</td>\n",
       "      <td>0.394925</td>\n",
       "      <td>1.000000</td>\n",
       "      <td>0.190016</td>\n",
       "      <td>0.241964</td>\n",
       "      <td>-0.041547</td>\n",
       "      <td>0.419473</td>\n",
       "    </tr>\n",
       "    <tr>\n",
       "      <th>NE</th>\n",
       "      <td>0.167840</td>\n",
       "      <td>0.145030</td>\n",
       "      <td>0.190016</td>\n",
       "      <td>1.000000</td>\n",
       "      <td>0.043033</td>\n",
       "      <td>-0.077336</td>\n",
       "      <td>0.189230</td>\n",
       "    </tr>\n",
       "    <tr>\n",
       "      <th>CUST</th>\n",
       "      <td>0.555292</td>\n",
       "      <td>0.520102</td>\n",
       "      <td>0.241964</td>\n",
       "      <td>0.043033</td>\n",
       "      <td>1.000000</td>\n",
       "      <td>-0.003994</td>\n",
       "      <td>0.444906</td>\n",
       "    </tr>\n",
       "    <tr>\n",
       "      <th>COR</th>\n",
       "      <td>-0.079293</td>\n",
       "      <td>0.040528</td>\n",
       "      <td>-0.041547</td>\n",
       "      <td>-0.077336</td>\n",
       "      <td>-0.003994</td>\n",
       "      <td>1.000000</td>\n",
       "      <td>-0.058329</td>\n",
       "    </tr>\n",
       "    <tr>\n",
       "      <th>TAX</th>\n",
       "      <td>0.844889</td>\n",
       "      <td>0.832674</td>\n",
       "      <td>0.419473</td>\n",
       "      <td>0.189230</td>\n",
       "      <td>0.444906</td>\n",
       "      <td>-0.058329</td>\n",
       "      <td>1.000000</td>\n",
       "    </tr>\n",
       "  </tbody>\n",
       "</table>\n",
       "</div>"
      ],
      "text/plain": [
       "          PRICE      SQFT     FEATS        NE      CUST       COR       TAX\n",
       "PRICE  1.000000  0.844795  0.420272  0.167840  0.555292 -0.079293  0.844889\n",
       "SQFT   0.844795  1.000000  0.394925  0.145030  0.520102  0.040528  0.832674\n",
       "FEATS  0.420272  0.394925  1.000000  0.190016  0.241964 -0.041547  0.419473\n",
       "NE     0.167840  0.145030  0.190016  1.000000  0.043033 -0.077336  0.189230\n",
       "CUST   0.555292  0.520102  0.241964  0.043033  1.000000 -0.003994  0.444906\n",
       "COR   -0.079293  0.040528 -0.041547 -0.077336 -0.003994  1.000000 -0.058329\n",
       "TAX    0.844889  0.832674  0.419473  0.189230  0.444906 -0.058329  1.000000"
      ]
     },
     "execution_count": 17,
     "metadata": {},
     "output_type": "execute_result"
    }
   ],
   "source": [
    "df.corr()"
   ]
  },
  {
   "cell_type": "markdown",
   "metadata": {},
   "source": [
    "\n",
    "Налоги сильно коррелируют с площадью. Предлагается откинуть налоги."
   ]
  },
  {
   "cell_type": "markdown",
   "metadata": {},
   "source": [
    "Воспользуемся статистическими критериями для интерпритации важности коэффициентов линейной модели.\n",
    "\n",
    "Будем выдвигать гипотезу о том, что каждый коэффициент равен 0 и будем смотреть на `p-value`.\n",
    "\n",
    "$H_o : X_i = 0 $"
   ]
  },
  {
   "cell_type": "code",
   "execution_count": 18,
   "metadata": {},
   "outputs": [
    {
     "name": "stdout",
     "output_type": "stream",
     "text": [
      "                            OLS Regression Results                            \n",
      "==============================================================================\n",
      "Dep. Variable:                  PRICE   R-squared:                       0.802\n",
      "Model:                            OLS   Adj. R-squared:                  0.791\n",
      "Method:                 Least Squares   F-statistic:                     74.37\n",
      "Date:                Wed, 12 Feb 2020   Prob (F-statistic):           2.01e-36\n",
      "Time:                        16:39:56   Log-Likelihood:                -765.84\n",
      "No. Observations:                 117   AIC:                             1546.\n",
      "Df Residuals:                     110   BIC:                             1565.\n",
      "Df Model:                           6                                         \n",
      "Covariance Type:            nonrobust                                         \n",
      "==============================================================================\n",
      "                 coef    std err          t      P>|t|      [0.025      0.975]\n",
      "------------------------------------------------------------------------------\n",
      "const         83.1759     63.308      1.314      0.192     -42.286     208.638\n",
      "SQFT           0.2920      0.059      4.924      0.000       0.174       0.409\n",
      "FEATS         12.1767     12.818      0.950      0.344     -13.225      37.579\n",
      "NE             8.0116     35.098      0.228      0.820     -61.544      77.568\n",
      "CUST         133.0143     44.756      2.972      0.004      44.319     221.710\n",
      "COR          -65.8008     41.839     -1.573      0.119    -148.715      17.113\n",
      "TAX            0.5419      0.102      5.303      0.000       0.339       0.744\n",
      "==============================================================================\n",
      "Omnibus:                       11.630   Durbin-Watson:                   1.585\n",
      "Prob(Omnibus):                  0.003   Jarque-Bera (JB):               33.049\n",
      "Skew:                          -0.022   Prob(JB):                     6.66e-08\n",
      "Kurtosis:                       5.603   Cond. No.                     8.00e+03\n",
      "==============================================================================\n",
      "\n",
      "Warnings:\n",
      "[1] Standard Errors assume that the covariance matrix of the errors is correctly specified.\n",
      "[2] The condition number is large,  8e+03. This might indicate that there are\n",
      "strong multicollinearity or other numerical problems.\n"
     ]
    },
    {
     "name": "stderr",
     "output_type": "stream",
     "text": [
      "C:\\ProgramData\\Anaconda3\\lib\\site-packages\\numpy\\core\\fromnumeric.py:2389: FutureWarning: Method .ptp is deprecated and will be removed in a future version. Use numpy.ptp instead.\n",
      "  return ptp(axis=axis, out=out, **kwargs)\n"
     ]
    }
   ],
   "source": [
    "import statsmodels.api as sm\n",
    "X2 = sm.add_constant(X)\n",
    "est = sm.OLS(y, X2)\n",
    "est2 = est.fit()\n",
    "print(est2.summary())"
   ]
  },
  {
   "cell_type": "markdown",
   "metadata": {},
   "source": [
    "И действительно, заметим, что `SQFT` и `TAX` имеют `p-value` равным 0, то есть они важны для модели, но скоррелированны, так же важен признак `CUST`\n",
    "\n"
   ]
  },
  {
   "cell_type": "code",
   "execution_count": 19,
   "metadata": {},
   "outputs": [
    {
     "name": "stdout",
     "output_type": "stream",
     "text": [
      "0.7956603297679673\n"
     ]
    }
   ],
   "source": [
    "X = df[['TAX', 'CUST','SQFT']]\n",
    "model.fit(X, y)\n",
    "print(model.score(X, y))"
   ]
  },
  {
   "cell_type": "markdown",
   "metadata": {},
   "source": [
    "Заметим, что наша модель стала хуже всего лишь на 7 сотых после отбрасывания незначительных признаков, но мы отобрали главные признаки, а также сэкономили время на построении модели, что в более серьзных задачах может быть решающим фактором."
   ]
  },
  {
   "cell_type": "markdown",
   "metadata": {},
   "source": [
    "# 3 Полиномиальные признаки\n",
    "## 3.1 Подготовка данных"
   ]
  },
  {
   "cell_type": "code",
   "execution_count": 20,
   "metadata": {},
   "outputs": [],
   "source": [
    "df = pd.read_csv('diamond.dat', header=None, sep='\\s+', names=['weight', 'price'])"
   ]
  },
  {
   "cell_type": "code",
   "execution_count": 21,
   "metadata": {},
   "outputs": [
    {
     "data": {
      "text/html": [
       "<div>\n",
       "<style scoped>\n",
       "    .dataframe tbody tr th:only-of-type {\n",
       "        vertical-align: middle;\n",
       "    }\n",
       "\n",
       "    .dataframe tbody tr th {\n",
       "        vertical-align: top;\n",
       "    }\n",
       "\n",
       "    .dataframe thead th {\n",
       "        text-align: right;\n",
       "    }\n",
       "</style>\n",
       "<table border=\"1\" class=\"dataframe\">\n",
       "  <thead>\n",
       "    <tr style=\"text-align: right;\">\n",
       "      <th></th>\n",
       "      <th>weight</th>\n",
       "      <th>price</th>\n",
       "    </tr>\n",
       "  </thead>\n",
       "  <tbody>\n",
       "    <tr>\n",
       "      <th>0</th>\n",
       "      <td>0.17</td>\n",
       "      <td>355</td>\n",
       "    </tr>\n",
       "    <tr>\n",
       "      <th>1</th>\n",
       "      <td>0.16</td>\n",
       "      <td>328</td>\n",
       "    </tr>\n",
       "    <tr>\n",
       "      <th>2</th>\n",
       "      <td>0.17</td>\n",
       "      <td>350</td>\n",
       "    </tr>\n",
       "    <tr>\n",
       "      <th>3</th>\n",
       "      <td>0.18</td>\n",
       "      <td>325</td>\n",
       "    </tr>\n",
       "    <tr>\n",
       "      <th>4</th>\n",
       "      <td>0.25</td>\n",
       "      <td>642</td>\n",
       "    </tr>\n",
       "  </tbody>\n",
       "</table>\n",
       "</div>"
      ],
      "text/plain": [
       "   weight  price\n",
       "0    0.17    355\n",
       "1    0.16    328\n",
       "2    0.17    350\n",
       "3    0.18    325\n",
       "4    0.25    642"
      ]
     },
     "execution_count": 21,
     "metadata": {},
     "output_type": "execute_result"
    }
   ],
   "source": [
    "df.head()"
   ]
  },
  {
   "cell_type": "markdown",
   "metadata": {},
   "source": [
    "Будем предсказывать цену кольца с бриллиантом от веса бриллианта. Попробуем предсказать результат не только с помощью самой переменной, но и с помощью её степеней. Первая модель будет зависеть только от самой переменной weight, вторая -- от переменной $weight^2$, а третья -- от двух этих переменных сразу.\n",
    "В этих случаях, когда мы хотим попробовать в качестве фичей их степени и произведения фич, в `sklearn.preprocessing` есть класс `PolynomialFeatures`. Метод `fit_transform` этого класса сгенерирует из данного множества фич множество одночленов заданной степени. Например, для степени 2 и фич a, b будут сгенерированы фичи [a, b, $a^2$, $b^2$, ab], а при указанном параметре `include_bias=True` ещё и вектор-свободный член из единиц. Для данной задачи, конечно, проще было сгенерить один столбец из квадратов значений колонки weight. Но нам важно ознакомиться с классом PolynomialFeatures для дальнейшего применения."
   ]
  },
  {
   "cell_type": "markdown",
   "metadata": {},
   "source": [
    "## 3.2 Построение модели "
   ]
  },
  {
   "cell_type": "code",
   "execution_count": 22,
   "metadata": {},
   "outputs": [
    {
     "data": {
      "text/html": [
       "<div>\n",
       "<style scoped>\n",
       "    .dataframe tbody tr th:only-of-type {\n",
       "        vertical-align: middle;\n",
       "    }\n",
       "\n",
       "    .dataframe tbody tr th {\n",
       "        vertical-align: top;\n",
       "    }\n",
       "\n",
       "    .dataframe thead th {\n",
       "        text-align: right;\n",
       "    }\n",
       "</style>\n",
       "<table border=\"1\" class=\"dataframe\">\n",
       "  <thead>\n",
       "    <tr style=\"text-align: right;\">\n",
       "      <th></th>\n",
       "      <th>weight</th>\n",
       "      <th>weight^2</th>\n",
       "    </tr>\n",
       "  </thead>\n",
       "  <tbody>\n",
       "    <tr>\n",
       "      <th>0</th>\n",
       "      <td>0.17</td>\n",
       "      <td>0.0289</td>\n",
       "    </tr>\n",
       "    <tr>\n",
       "      <th>1</th>\n",
       "      <td>0.16</td>\n",
       "      <td>0.0256</td>\n",
       "    </tr>\n",
       "    <tr>\n",
       "      <th>2</th>\n",
       "      <td>0.17</td>\n",
       "      <td>0.0289</td>\n",
       "    </tr>\n",
       "    <tr>\n",
       "      <th>3</th>\n",
       "      <td>0.18</td>\n",
       "      <td>0.0324</td>\n",
       "    </tr>\n",
       "    <tr>\n",
       "      <th>4</th>\n",
       "      <td>0.25</td>\n",
       "      <td>0.0625</td>\n",
       "    </tr>\n",
       "  </tbody>\n",
       "</table>\n",
       "</div>"
      ],
      "text/plain": [
       "   weight  weight^2\n",
       "0    0.17    0.0289\n",
       "1    0.16    0.0256\n",
       "2    0.17    0.0289\n",
       "3    0.18    0.0324\n",
       "4    0.25    0.0625"
      ]
     },
     "execution_count": 22,
     "metadata": {},
     "output_type": "execute_result"
    }
   ],
   "source": [
    "from sklearn.preprocessing import PolynomialFeatures\n",
    "poly = PolynomialFeatures(\n",
    "                          # Максимальная степень\n",
    "                          degree=2,\n",
    "                          # Не генерировать свободный член\n",
    "                          include_bias=False)\n",
    "y = df['price']\n",
    "X0 = poly.fit_transform(df[['weight']])\n",
    "X0 = pd.DataFrame(X0, columns=['weight', 'weight^2'])\n",
    "X0.head()"
   ]
  },
  {
   "cell_type": "markdown",
   "metadata": {},
   "source": [
    "Составим отдельные модели:\n",
    "* на основе признака `weight`\n",
    "* на основе признака $weight^2$\n",
    "* на основе обоих этих признаков"
   ]
  },
  {
   "cell_type": "code",
   "execution_count": 23,
   "metadata": {},
   "outputs": [],
   "source": [
    "m = [\n",
    "    # Одна оригинальная переменная weight\n",
    "    X0[['weight']],\n",
    "    # Одна переменная weight^2\n",
    "    X0[['weight^2']],\n",
    "    # Две переменных weight и weight^2\n",
    "    X0.copy()]\n",
    "models = [LinearRegression() for _ in m]"
   ]
  },
  {
   "cell_type": "code",
   "execution_count": 24,
   "metadata": {},
   "outputs": [
    {
     "name": "stdout",
     "output_type": "stream",
     "text": [
      "0.978260777986033\n",
      "0.970310818417109\n",
      "0.9789175801893899\n"
     ]
    }
   ],
   "source": [
    "for X, model in zip(m, models):\n",
    "    model.fit(X, y)\n",
    "    print(model.score(X, y))"
   ]
  },
  {
   "cell_type": "markdown",
   "metadata": {},
   "source": [
    "Получилось, что $R^2$ во всех моделях примерно одинаков. Однако не все они одинаково полезны"
   ]
  },
  {
   "cell_type": "code",
   "execution_count": 25,
   "metadata": {},
   "outputs": [
    {
     "name": "stdout",
     "output_type": "stream",
     "text": [
      "                            OLS Regression Results                            \n",
      "==============================================================================\n",
      "Dep. Variable:                  price   R-squared:                       0.979\n",
      "Model:                            OLS   Adj. R-squared:                  0.978\n",
      "Method:                 Least Squares   F-statistic:                     1045.\n",
      "Date:                Wed, 12 Feb 2020   Prob (F-statistic):           1.94e-38\n",
      "Time:                        16:39:58   Log-Likelihood:                -232.47\n",
      "No. Observations:                  48   AIC:                             470.9\n",
      "Df Residuals:                      45   BIC:                             476.5\n",
      "Df Model:                           2                                         \n",
      "Covariance Type:            nonrobust                                         \n",
      "==============================================================================\n",
      "                 coef    std err          t      P>|t|      [0.025      0.975]\n",
      "------------------------------------------------------------------------------\n",
      "const       -174.1301     74.238     -2.346      0.023    -323.653     -24.607\n",
      "weight      2920.1306    681.297      4.286      0.000    1547.928    4292.333\n",
      "weight^2    1739.9016   1469.472      1.184      0.243   -1219.767    4699.570\n",
      "==============================================================================\n",
      "Omnibus:                        1.961   Durbin-Watson:                   1.945\n",
      "Prob(Omnibus):                  0.375   Jarque-Bera (JB):                1.075\n",
      "Skew:                           0.215   Prob(JB):                        0.584\n",
      "Kurtosis:                       3.593   Cond. No.                         362.\n",
      "==============================================================================\n",
      "\n",
      "Warnings:\n",
      "[1] Standard Errors assume that the covariance matrix of the errors is correctly specified.\n"
     ]
    },
    {
     "name": "stderr",
     "output_type": "stream",
     "text": [
      "C:\\ProgramData\\Anaconda3\\lib\\site-packages\\numpy\\core\\fromnumeric.py:2389: FutureWarning: Method .ptp is deprecated and will be removed in a future version. Use numpy.ptp instead.\n",
      "  return ptp(axis=axis, out=out, **kwargs)\n"
     ]
    }
   ],
   "source": [
    "\n",
    "X2 = sm.add_constant(m[2])\n",
    "est = sm.OLS(y, X2)\n",
    "est2 = est.fit()\n",
    "print(est2.summary())"
   ]
  },
  {
   "cell_type": "markdown",
   "metadata": {},
   "source": [
    "Заметим, что признак `weight` оказался не важен для модели, это вызвано высокой скоррелированостью(как бы это не было странно) этого признака с $weight^2$"
   ]
  },
  {
   "cell_type": "markdown",
   "metadata": {},
   "source": [
    "## 3.3 Полиномиальные признаки в задачах классификации\n",
    " ### 3.3.1 Создание игрушечных данных"
   ]
  },
  {
   "cell_type": "code",
   "execution_count": 26,
   "metadata": {},
   "outputs": [
    {
     "data": {
      "image/png": "[encoded data removed]",
      "text/plain": [
       "<Figure size 432x288 with 1 Axes>"
      ]
     },
     "metadata": {
      "needs_background": "light"
     },
     "output_type": "display_data"
    }
   ],
   "source": [
    "N = 200\n",
    "x = np.random.rand(N)+10\n",
    "y = np.random.rand(N) +10\n",
    "\n",
    "plt.scatter(x, y)\n",
    "plt.show()"
   ]
  },
  {
   "cell_type": "code",
   "execution_count": 27,
   "metadata": {},
   "outputs": [],
   "source": [
    "def Feature(row):\n",
    "    if (row['X']-10.5)**2+(row['Y']-10.5)**2 <=0.7 and (row['X']-10.5)**2+(row['Y']-10.5)**2 >=0.2:\n",
    "        return 1\n",
    "    else: \n",
    "        return 0"
   ]
  },
  {
   "cell_type": "code",
   "execution_count": 28,
   "metadata": {},
   "outputs": [],
   "source": [
    "T = pd.DataFrame({'X' : x,\n",
    "                       'Y' : y})"
   ]
  },
  {
   "cell_type": "code",
   "execution_count": 29,
   "metadata": {},
   "outputs": [],
   "source": [
    "T['Label'] = T.apply(lambda row: Feature(row),axis = 1)"
   ]
  },
  {
   "cell_type": "code",
   "execution_count": 30,
   "metadata": {},
   "outputs": [],
   "source": [
    "Ca = T['Label'].map({1: 'green',0: 'orange'})"
   ]
  },
  {
   "cell_type": "code",
   "execution_count": 31,
   "metadata": {},
   "outputs": [
    {
     "data": {
      "text/plain": [
       "<matplotlib.legend.Legend at 0x164b66aa240>"
      ]
     },
     "execution_count": 31,
     "metadata": {},
     "output_type": "execute_result"
    },
    {
     "data": {
      "image/png": "[encoded data removed]",
      "text/plain": [
       "<Figure size 432x288 with 1 Axes>"
      ]
     },
     "metadata": {
      "needs_background": "light"
     },
     "output_type": "display_data"
    }
   ],
   "source": [
    "plt.scatter(T['X'],T['Y'], color = Ca)\n",
    "plt.xlabel('X')\n",
    "plt.ylabel('Y')\n",
    "plt.legend()"
   ]
  },
  {
   "cell_type": "markdown",
   "metadata": {},
   "source": [
    "Поставим задачу классификации, которая отделит желтые точки от зеленых. Линейной это невозможно, помогут ли полиномиальные признаки?"
   ]
  },
  {
   "cell_type": "code",
   "execution_count": 32,
   "metadata": {},
   "outputs": [],
   "source": [
    "def plot_boundary(clf, X, y, grid_step=.01, poly_featurizer=None):\n",
    "    x_min, x_max = X[:, 0].min() - .1, X[:, 0].max() + .1\n",
    "    y_min, y_max = X[:, 1].min() - .1, X[:, 1].max() + .1\n",
    "    xx, yy = np.meshgrid(np.arange(x_min, x_max, grid_step),\n",
    "    np.arange(y_min, y_max, grid_step))\n",
    "\n",
    "# каждой точке в сетке [x_min, m_max]x[y_min, y_max]\n",
    "# ставим в соответствие свой цвет\n",
    "    Z = clf.predict(poly_featurizer.transform(np.c_[xx.ravel(), yy.ravel()]))\n",
    "    Z = Z.reshape(xx.shape)\n",
    "    plt.contour(xx, yy, Z, cmap=plt.cm.Paired)"
   ]
  },
  {
   "cell_type": "code",
   "execution_count": 33,
   "metadata": {},
   "outputs": [],
   "source": [
    "X = T[['X','Y']].values\n",
    "Y = T[['Label']].values"
   ]
  },
  {
   "cell_type": "code",
   "execution_count": 34,
   "metadata": {},
   "outputs": [],
   "source": [
    "poly = PolynomialFeatures(degree=60)\n",
    "X_poly = poly.fit_transform(X)"
   ]
  },
  {
   "cell_type": "markdown",
   "metadata": {},
   "source": [
    "### 3.3.2 Построение модели классификации с полиномиальными признаками"
   ]
  },
  {
   "cell_type": "code",
   "execution_count": 35,
   "metadata": {},
   "outputs": [
    {
     "name": "stderr",
     "output_type": "stream",
     "text": [
      "C:\\Users\\nozdr\\AppData\\Roaming\\Python\\Python37\\site-packages\\sklearn\\linear_model\\logistic.py:432: FutureWarning: Default solver will be changed to 'lbfgs' in 0.22. Specify a solver to silence this warning.\n",
      "  FutureWarning)\n",
      "C:\\Users\\nozdr\\AppData\\Roaming\\Python\\Python37\\site-packages\\sklearn\\utils\\validation.py:724: DataConversionWarning: A column-vector y was passed when a 1d array was expected. Please change the shape of y to (n_samples, ), for example using ravel().\n",
      "  y = column_or_1d(y, warn=True)\n",
      "C:\\Users\\nozdr\\AppData\\Roaming\\Python\\Python37\\site-packages\\sklearn\\linear_model\\logistic.py:1544: UserWarning: 'n_jobs' > 1 does not have any effect when 'solver' is set to 'liblinear'. Got 'n_jobs' = 4.\n",
      "  \" = {}.\".format(effective_n_jobs(self.n_jobs)))\n"
     ]
    },
    {
     "name": "stdout",
     "output_type": "stream",
     "text": [
      "Доля правильных ответов классификатора на обучающей выборке: 0.875\n"
     ]
    },
    {
     "data": {
      "image/png": "[encoded data removed]",
      "text/plain": [
       "<Figure size 432x288 with 1 Axes>"
      ]
     },
     "metadata": {
      "needs_background": "light"
     },
     "output_type": "display_data"
    }
   ],
   "source": [
    "from sklearn.linear_model import LogisticRegression, LogisticRegressionCV\n",
    "C = 1\n",
    "logit = LogisticRegression(C=C, n_jobs=-1, random_state=17)\n",
    "logit.fit(X_poly, Y)\n",
    "\n",
    "plot_boundary(logit, X ,Y, grid_step=.01, poly_featurizer=poly)\n",
    "\n",
    "plt.scatter(T['X'],T['Y'], color = Ca)\n",
    "plt.xlabel(\"Тест 1\")\n",
    "plt.ylabel(\"Тест 2\")\n",
    "plt.title('C полиномиальной признаками')\n",
    "plt.legend();\n",
    "\n",
    "print(\"Доля правильных ответов классификатора на обучающей выборке:\", \n",
    "round(logit.score(X_poly, Y), 3))"
   ]
  },
  {
   "cell_type": "markdown",
   "metadata": {},
   "source": [
    "Модель хоть и неидеально решает задачу, но полиномиальные признаки помогли создать более-менее четкую границу между классами."
   ]
  },
  {
   "cell_type": "markdown",
   "metadata": {},
   "source": [
    "# 4.Регуляризация"
   ]
  },
  {
   "cell_type": "markdown",
   "metadata": {},
   "source": [
    "Итак, вернемся к  пункту 2, в котором мы строили линейную модель.\n",
    "\n",
    "Мы получили значения весов( вектора $\\hat a$), но в некоторых задач они могут стать совершенно неадекватными(быть слишком маленькими или большими)\n",
    "\n",
    "Это связано с тем, что наша модель переучиывается, в таких ситуациях нам поможет регуляризация.\n",
    "\n",
    "Рассмотрим 2 вида регуляризации: \n",
    "1. Lasso  $L1: \\left \\| a \\right \\|_1 = \\lambda \\sum_{i=1}^{n}|a_i| $\n",
    "2. Ridge  $L2: \\left \\| a \\right \\|_1 = \\lambda \\sum_{i=1}^{n}a_i^2 $\n",
    "\n",
    "$\\lambda \n",
    "\\in [0,1] $\n",
    "\n",
    "$\\lambda$ - параметр регуляризации\n",
    "\n",
    "С помощью этого параметра мы можем ослаблять \n",
    "\n",
    "$\\lambda$ больше => веса меньше\n",
    "\n",
    "$\\lambda$ меньше => веса больше\n",
    "\n",
    "Есть ещё и другие виды регуляризации, например, `ElasticNet` - L1+L2\n",
    "\n",
    "`Lasso` - регуляризация помогает отобрать лучшие признаки для модели, обнуляя самые незначительные.\n",
    "\n",
    "Как это происходит?\n",
    "\n",
    "* Рассмотрим геометрическую интерпритацию, связанную со свойствами норм \n",
    "\n",
    "<img  src=\"https://craftappmobile.com/wp-content/uploads/2017/11/1-min.png\" alt=\"center\" width=\"767\" height=\"430\">\n",
    "\n",
    "Если это Вам не помогло, предлагаю проделать все вручную, взяв за основу самую простую модель:\n",
    "\n",
    "$y$ = $a_1x$\n",
    "\n",
    "В случае `L1-регурялизации`: $y = a_1x + \\lambda a_1$\n",
    "\n",
    "В случае `L2-регурялизации`: $y = a_1x + \\lambda a_1^2$\n",
    "\n",
    "Найдем оценки параметра $a_1$ в обоих случаях и почувствуем разницу. Искать оценки будем с помощью ММП:\n",
    "\n",
    "$ \\frac{\\partial MSE}{\\partial \\hat a} = 0 $\n",
    "\n",
    "Для первого случая: MSE = $(y-a_1x)^2+\\lambda a_1$\n",
    "\n",
    "1. Расскроем скобки.\n",
    "\n",
    "  $y^2 - 2a_1yx+a_1^2x^2+\\lambda a_1 $\n",
    "  \n",
    "2. Найдем производную.\n",
    "\n",
    " $ \\frac{\\partial MSE}{\\partial \\hat a_1} = -2yx+2a_1x^2+\\lambda $\n",
    " \n",
    "3. Приравняем производную к 0.\n",
    " \n",
    " $ -2yx+2a_1x^2+\\lambda = 0 $\n",
    "\n",
    "4. Выражаем параметр $a_1$:\n",
    "   \n",
    "   $2a_1x^2 = -\\lambda+2yx$\n",
    "   \n",
    "   $a_1 = \\frac{\\lambda+yx}{2*x^2}$\n",
    "   \n",
    "Заметим, что при определенном выборе $\\lambda$, например, в нашем случае можно взять `-yx`, числитель будет равен 0\n",
    "\n",
    "Соответственнно будет равен и 0 параметр $a_1$\n",
    "\n",
    "Теперь сделаем все то же самое и для `Ridge` регуляризации.\n",
    "\n",
    "Для этого случая: MSE = $(y-a_1x)^2+\\lambda a_1^2$\n",
    "\n",
    "1. Расскроем скобки.\n",
    "\n",
    "  $y^2 - 2a_1yx+a_1^2x^2+\\lambda a_1^2 $\n",
    "  \n",
    "2. Найдем производную.\n",
    "\n",
    " $ \\frac{\\partial MSE}{\\partial \\hat a_1} = -2yx+2a_1x^2+2\\lambda a_1 $\n",
    " \n",
    "3. Приравняем производную к 0.\n",
    " \n",
    " $ -2yx+2a_1x^2+2\\lambda a_1 = 0 $\n",
    "\n",
    "4. Выражаем параметр $a_1$, сокращая на 2:\n",
    "   \n",
    "   $a_1x^2 + a_1\\lambda= yx$\n",
    "   \n",
    "   $a_1(x^2+\\lambda) = xy$\n",
    "   \n",
    "   $a_1 = \\frac{xy}{\\lambda+x^2}$\n",
    "   \n",
    "Заметим, что какое мы не взяли бы $\\lambda$, числитель все равно остается неизменным\n",
    "\n",
    "Только при увелечении $\\lambda$ знаменатель дроби будет стремится к бесконечности, а вся дробь и значение $a_1$ к 0.\n",
    "   \n"
   ]
  },
  {
   "cell_type": "markdown",
   "metadata": {},
   "source": [
    "# 5. Непараметрическая регрессия "
   ]
  },
  {
   "cell_type": "markdown",
   "metadata": {},
   "source": [
    "Иногда линейная регрессия бессильна против задачи даже с полиномиальными признаки.\n",
    "\n",
    "Существует много других методов, но мы рассмотрим параметрическую регрессию.\n",
    "\n",
    "Одним из простейших методов является ядерное сглаживание. Этот метод прост в применении, не требует дополнительных математических сведений и понятен на интуитивном уровне. \n",
    "\n",
    "В библиотеке `sklearn` реализованы два типа непараметрической регрессии:\n",
    "\n",
    "1. [KernelRidge](https://scikit-learn.org/0.21/modules/generated/sklearn.kernel_ridge.KernelRidge.html#sklearn.kernel_ridge.KernelRidge)\n",
    "\n",
    "2. [Gaussian process regression](https://scikit-learn.org/0.21/auto_examples/gaussian_process/plot_compare_gpr_krr.html#sphx-glr-auto-examples-gaussian-process-plot-compare-gpr-krr-py)\n",
    "\n",
    "Так же есть целая библитека PyQt_fit, в которой есть много всего.\n",
    "\n",
    "\n",
    "3. [PyQt-Fit](https://pythonhosted.org/PyQt-Fit/)\n",
    "\n",
    "Там же можно найти кучу полезной информации по анализу остатков, использующегося для построения модели регрессии, в частности при работе с временными рядами.\n",
    "\n",
    "\n"
   ]
  },
  {
   "cell_type": "code",
   "execution_count": null,
   "metadata": {},
   "outputs": [],
   "source": []
  }
 ],
 "metadata": {
  "kernelspec": {
   "display_name": "Python 3",
   "language": "python",
   "name": "python3"
  },
  "language_info": {
   "codemirror_mode": {
    "name": "ipython",
    "version": 3
   },
   "file_extension": ".py",
   "mimetype": "text/x-python",
   "name": "python",
   "nbconvert_exporter": "python",
   "pygments_lexer": "ipython3",
   "version": "3.7.6"
  }
 },
 "nbformat": 4,
 "nbformat_minor": 4
}
